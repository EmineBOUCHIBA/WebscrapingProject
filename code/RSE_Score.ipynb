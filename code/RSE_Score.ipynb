{
 "cells": [
  {
   "cell_type": "code",
   "execution_count": 1,
   "id": "ce2a7752",
   "metadata": {},
   "outputs": [
    {
     "name": "stdout",
     "output_type": "stream",
     "text": [
      "Requirement already satisfied: sentence_transformers in c:\\users\\emine\\anaconda3\\lib\\site-packages (2.2.2)\n",
      "Requirement already satisfied: torch>=1.6.0 in c:\\users\\emine\\anaconda3\\lib\\site-packages (from sentence_transformers) (2.1.2)\n",
      "Requirement already satisfied: sentencepiece in c:\\users\\emine\\anaconda3\\lib\\site-packages (from sentence_transformers) (0.1.99)\n",
      "Requirement already satisfied: huggingface-hub>=0.4.0 in c:\\users\\emine\\anaconda3\\lib\\site-packages (from sentence_transformers) (0.10.1)\n",
      "Requirement already satisfied: scipy in c:\\users\\emine\\anaconda3\\lib\\site-packages (from sentence_transformers) (1.10.0)\n",
      "Requirement already satisfied: scikit-learn in c:\\users\\emine\\anaconda3\\lib\\site-packages (from sentence_transformers) (1.2.1)\n",
      "Requirement already satisfied: torchvision in c:\\users\\emine\\anaconda3\\lib\\site-packages (from sentence_transformers) (0.16.2)\n",
      "Requirement already satisfied: transformers<5.0.0,>=4.6.0 in c:\\users\\emine\\anaconda3\\lib\\site-packages (from sentence_transformers) (4.24.0)\n",
      "Requirement already satisfied: nltk in c:\\users\\emine\\anaconda3\\lib\\site-packages (from sentence_transformers) (3.7)\n",
      "Requirement already satisfied: tqdm in c:\\users\\emine\\anaconda3\\lib\\site-packages (from sentence_transformers) (4.64.1)\n",
      "Requirement already satisfied: numpy in c:\\users\\emine\\anaconda3\\lib\\site-packages (from sentence_transformers) (1.23.5)\n",
      "Requirement already satisfied: typing-extensions>=3.7.4.3 in c:\\users\\emine\\anaconda3\\lib\\site-packages (from huggingface-hub>=0.4.0->sentence_transformers) (4.9.0)\n",
      "Requirement already satisfied: packaging>=20.9 in c:\\users\\emine\\anaconda3\\lib\\site-packages (from huggingface-hub>=0.4.0->sentence_transformers) (22.0)\n",
      "Requirement already satisfied: pyyaml>=5.1 in c:\\users\\emine\\anaconda3\\lib\\site-packages (from huggingface-hub>=0.4.0->sentence_transformers) (6.0)\n",
      "Requirement already satisfied: filelock in c:\\users\\emine\\anaconda3\\lib\\site-packages (from huggingface-hub>=0.4.0->sentence_transformers) (3.9.0)\n",
      "Requirement already satisfied: requests in c:\\users\\emine\\anaconda3\\lib\\site-packages (from huggingface-hub>=0.4.0->sentence_transformers) (2.28.1)\n",
      "Requirement already satisfied: networkx in c:\\users\\emine\\anaconda3\\lib\\site-packages (from torch>=1.6.0->sentence_transformers) (2.8.4)\n",
      "Requirement already satisfied: fsspec in c:\\users\\emine\\anaconda3\\lib\\site-packages (from torch>=1.6.0->sentence_transformers) (2022.11.0)\n",
      "Requirement already satisfied: sympy in c:\\users\\emine\\anaconda3\\lib\\site-packages (from torch>=1.6.0->sentence_transformers) (1.11.1)\n",
      "Requirement already satisfied: jinja2 in c:\\users\\emine\\anaconda3\\lib\\site-packages (from torch>=1.6.0->sentence_transformers) (3.1.2)\n",
      "Requirement already satisfied: regex!=2019.12.17 in c:\\users\\emine\\anaconda3\\lib\\site-packages (from transformers<5.0.0,>=4.6.0->sentence_transformers) (2022.7.9)\n",
      "Requirement already satisfied: tokenizers!=0.11.3,<0.14,>=0.11.1 in c:\\users\\emine\\anaconda3\\lib\\site-packages (from transformers<5.0.0,>=4.6.0->sentence_transformers) (0.11.4)\n",
      "Requirement already satisfied: colorama in c:\\users\\emine\\anaconda3\\lib\\site-packages (from tqdm->sentence_transformers) (0.4.6)\n",
      "Requirement already satisfied: click in c:\\users\\emine\\anaconda3\\lib\\site-packages (from nltk->sentence_transformers) (8.0.4)\n",
      "Requirement already satisfied: joblib in c:\\users\\emine\\anaconda3\\lib\\site-packages (from nltk->sentence_transformers) (1.1.1)\n",
      "Requirement already satisfied: threadpoolctl>=2.0.0 in c:\\users\\emine\\anaconda3\\lib\\site-packages (from scikit-learn->sentence_transformers) (2.2.0)\n",
      "Requirement already satisfied: pillow!=8.3.*,>=5.3.0 in c:\\users\\emine\\anaconda3\\lib\\site-packages (from torchvision->sentence_transformers) (9.4.0)\n",
      "Requirement already satisfied: MarkupSafe>=2.0 in c:\\users\\emine\\anaconda3\\lib\\site-packages (from jinja2->torch>=1.6.0->sentence_transformers) (2.1.1)\n",
      "Requirement already satisfied: urllib3<1.27,>=1.21.1 in c:\\users\\emine\\anaconda3\\lib\\site-packages (from requests->huggingface-hub>=0.4.0->sentence_transformers) (1.26.14)\n",
      "Requirement already satisfied: certifi>=2017.4.17 in c:\\users\\emine\\anaconda3\\lib\\site-packages (from requests->huggingface-hub>=0.4.0->sentence_transformers) (2022.12.7)\n",
      "Requirement already satisfied: idna<4,>=2.5 in c:\\users\\emine\\anaconda3\\lib\\site-packages (from requests->huggingface-hub>=0.4.0->sentence_transformers) (3.4)\n",
      "Requirement already satisfied: charset-normalizer<3,>=2 in c:\\users\\emine\\anaconda3\\lib\\site-packages (from requests->huggingface-hub>=0.4.0->sentence_transformers) (2.0.4)\n",
      "Requirement already satisfied: mpmath>=0.19 in c:\\users\\emine\\anaconda3\\lib\\site-packages (from sympy->torch>=1.6.0->sentence_transformers) (1.2.1)\n",
      "['Nutrition,', 'atrial', 'Psychotherapy', 'Wellness,', 'Künstliche', 'artificial', 'Supported', 'Business', 'paperless', 'Search', 'microscopy', 'Actionable', 'wellbeing,', 'Info', 'respiratory', 'E-Health,', 'Paediatric', 'fluorescence,', 'vaccines,', 'Neuroradiology,', 'diabetes,', 'domicilio,', 'Discovery,', 'Design,', 'OP,', 'amaurosis', 'Longevity', 'congenital', 'Hematology', 'de', 'Wireless', 'portale', 'informations', 'Eyewear,', 'Marketplace,', 'vérifiés,', 'cardiac', 'diététicien', 'emerging', 'robotics,', 'Laboratory,', 'Smart', 'vesicles,', 'smart', '3d', 'Apps', 'observance,', 'e-learning,', 'mentale,', 'eprescription,', 'Engineering,', 'Call,', 'statistique,', 'Coach,', 'funding,', 'web,', 'animation,', 'weight', 'videojuegos,', 'multivalent', 'Online', 'Proteins', 'Anwendungen', 'IT,', 'Women,', 'deep', 'sciences,', 'Bispecific', 'App', 'peptide', 'Freelance,', 'perks', 'hardware,', 'customers,', 'Monitoring', 'fabrication', '&', 'workplace', 'myopia,', 'Sequencing,', 'Investment,', 'Health,', 'Santé,', 'Lifestyle,', 'Biotechnologie,', 'Connected', 'dématérialisation,', 'Stress', 'Veterinary', 'medicina,', 'motion', 'Pain', 'Physical', 'Conseil,', 'Dermal', 'automation,', 'Pharmaceutical', 'mental', 'MedTech,', 'Augmented', 'Tech,', 'design', 'Metabolic', 'life', 'Self-Care', 'consulenza', 'Avis', 'fibrilation,', 'Other', 'to', 'practices', 'Analyse', 'Dementia', 'AR,', 'Repeat', 'tracker,', 'language', 'rehabilitation,', 'Accès', 'DTx,', 'therapeutics,', 'Condition', 'founders', 'Solutions', 'livestock,', 'oncolytic', 'Well-being,', 'empathy,', 'farming,', 'biotechnology', 'Skin', 'technology,', 'conditions,', 'and', 'pruebas,', 'smarter', 'CNS,', 'livestock', 'Corporate', 'Anxiety,', 'Holistic', 'médicaments,', 'Jobs,', 'entreprise,', 'Médicaments', 'Glucose', 'mood', 'Good', 'tratamientos,', 'Biomarkers', 'dose', 'health,', 'softwaredevelopment,', 'Payroll,', 'médecin,', 'Right', 'Hardware,', 'Motion', 'Digital', ':', 'Open', 'predictive', 'your', 'retinal', 'startup', 'Organisation,', 'en', 'medical,', 'tech,', 'Biosecurity,', 'learning,', 'alla', 'frugal', 'mobile,', 'Recherche', 'Post-partum', 'Krankenhaus,', 'Reality,', 'chequeos', 'Atopic', 'glasses,', 'Equity', 'cryothérapie,', 'prescription', 'rapid', 'mindfulness,', 'analytics', 'coaching,', 'Prescription,', 'Retirement', 'Therapeutics,', 'électronique,', 'data', 'neuroscience', '21', 'function,', 'Wellbeing,', 'cell', 'Specialist', 'Digitally', 'Sedation,', 'care', 'Clinics,', 'Funding,', 'Scarring,', 'Disease', 'Employee', 'Intelligence,', 'IoT-loggers,', 'legends,', 'Dispositifs', 'Science', 'lifestyle', 'Community', 'serious', 'Network', 'Fitness,', 'Speech', 'Private', 'Quality', 'gene', 'VFX,', 'insurtech,', 'Engagement', 'Biotechnology,', 'diseases,', 'Learning,', 'Life,', 'training,', 'app', 'Immunotherapy,', 'babysitter,', 'GI,', 'DigitalHealth,', 'Dienstleistung', 'Learning', 'monitoring,', 'VOIP,', 'boards,', 'Living,', 'investment', 'Medical', 'future,', 'Talent', 'Therapeutic', 'MDSAP,', 'repiratory,', 'SaaS,', 'anti-gravité,', 'Analytics,', 'Population', 'Disease,', 'alzheimers,', 'LIMS,', 'Inflammation,', 'machine', 'retinitis', 'source', 'device,', 'IA', 'im', 'farmaci', 'Management,', 'cancer', 'vivo', 'Biotech,', 'Antibodies,', 'mentoring,', 'Digital,', 'Development,', 'Microbiomics,', 'prototyping,', 'printing,', 'diligence,', 'Mobile', 'Data,', 'Cancer', 'Solutions,', 'working', 'disease,', 'Psychiatry,', 'abuse,', 'Neurodegenerative', 'medicaments,', 'innovation,', 'Metered', 'Heroe', 'trials,', 'ordonnance,', 'preanalytics,', 'manufacturing,', 'activity,', 'Therapy', 'Softwareentwicklung', 'Startup,', 'implant,', 'female', 'Test,', 'Preclinical', 'medtech,', 'chroniques,', 'analysis,', 'safety,', 'Surrogate', 'móvel,', 'experimental', 'smallbusiness,', 'adherence,', 'healthcare,', 'near', 'cognitive', 'Medical,', 'internet,', 'Continuous', 'In', 'reproductive', 'Communities,', 'Diagnostics,', 'screen,', 'start', 'm-health,', 'parents', 'esanté,', 'Leber´s', 'Menopause,', 'therapies,', 'software,', 'Hydration-Management', 'Organization,', 'Science,', 'game', 'Bioinformatics,', 'Hydrations-Management', 'AI,', 'Security,', 'Gamification,', 'instant', 'microfluidics,', 'Delivery,', 'Installation,', 'Biofeedback,', 'culture', 'Biomonitoring,', 'part', 'Data', 'Radiologist', 'surgery,', 'Mentale', 'consulting', 'Yoga,', 'Non-viral', 'parenting,', 'Africa,', 'Innovation,', 'policy,', 'Depression,', 'stress,', 'biomarker,', 'real', 'technique,', 'Heart', 'Banking', 'consegna', 'Therapy,', 'Core', 'tempo', 'online', 'Medtech,', 'therapy,', 'Entry,', 'gaming', 'téléconsultation,', 'molecule', 'Remote', 'with', 'crowdsourcing', 'engineering,', 'symptom', 'Chirurgie', 'greatplacetowork,', 'wellness', 'Devices,', 'Disorders,', 'scientific', 'Electronic', 'league', 'wearable,', 'Radiologie,', \"PC's,\", 'Dermatitis,', 'Eczema', 'SmartHospital', 'Consultation,', 'E-health', 'Life', 'pathology,', 'manufacturing', 'DIGA,', 'isocinétisme,', 'patients', \"Women's\", 'salud,', 'remote', 'orthopedic', 'maternal', 'centricity,', 'econsentement', 'digital-preanalytics,', 'KHZG,', 'Endometriosis,', 'Inherited', 'Industry,', 'development', 'Ejection', 'Sensoren,', 'Record', 'mechanical', 'Gesundheit,', 'Independent', 'Health', 'ehealth,', 'checkpoint', 'challenges,', 'ADC', 'investment,', 'kinésithérapie,', 'Coaching', 'la', 'ISO', 'Hospital,', 'Cytometry,', 'Servizi', 'Pharmaceuticals,', 'behaviour', 'Environmental', 'Tracking,', 'animal', 'Blockchain,', 'Patient', 'Consultancy,', 'brand', 'Neurosciences', 'SACCO,', 'Primary', 'Treatment,', 'T', 'consulting,', 'patient,', 'breathing,', 'advice,', 'Intelligenz,', 'inspire,', 'comptuter', 'Key', 'Diagnostic', 'genetic', 'meditation,', 'Aplicação', 'Occupational', 'endpoints', 'digital,', 'sustainability,', 'Waveguide,', 'diagnosis,', 'app,', 'médecine', 'Cybersecurity,', 'plattform-solution,', 'fluorescence', 'Nanotechnology,', 'regenerative', 'assessment,', 'Medicine', 'COPD,', 'Audit,', 'test,', 'computer', 'Editing', 'failure,', 'Mindfulness,', 'future-corelab', 'pharmaceuticals', 'Genomic,', 'Point', 'augmented', 'Deep', 'R&D,', 'eHealth,', 'motivation,', 'mandelieu-la-napoule,', 'Demenz,', 'Medicine,', 'Biopharma,', 'applications,', 'bienestar,', '21CFR820,', 'healthcare', 'dose,', 'Inclusion,', 'Technology', 'cartilage', 'Functional', 'movement', 'Médicaux,', 'Farmacia,', 'ostéopathie', 'soins,', 'Cell', 'inhibitors,', 'elder', 'ordonnance', 'SMQ', 'Public', 'retina', 'Research,', 'startup,', 'gdpr,', 'Traceability,', 'connectée,', 'Dry', 'Analytics', \"d'azur\", 'science,', 'asistencia,', 'virus,', 'numérique,', 'Tele-rehabilitation,', 'Exoskelett', 'analytics,', 'Telecare,', 'business', 'Retina,', 'servizi', 'Support,', 'technologie,', 'Web3,', 'Femtech,', 'fingerprick,', 'delivery,', 'Chronic', 'work', 'farmacia,', 'biomedico,', 'Consulting,', 'development,', 'disease', 'diagnostics,', 'digitalization,', 'key', 'Retinal', 'Doctors,', 'mocap,', 'e-santé,', 'osteo,', 'Formation,', ',', 'Diabetes,', 'santé', 'consultation,', 'Small', 'device', 'femtech,', 'AAV', 'back', 'Sport', 'Agritech,', 'education,', 'Medizintechnik,', 'Digitalisierung,', 'Digitalization', 'Credit', 'Rehabilitation,', 'Farmácia,', 'Machine', 'Regenerative', 'blood', 'Belastungsmessung,', 'Record,', 'clinic,', 'HR', 'Fintech,', 'médical,', 'Intelligence', 'Epigenetics', 'transformation,', 'Platform,', 'Healthtech', 'delega,', 'phlebotomy-support,', 'esports,', 'RH', 'bien-être,', 'inhalation', 'e-commerce', 'brain', 'IOS,', 'Management', 'Nutrition', 'speech', 'hcsmeufr,', 'medical-diagnostics,', 'Radiology,', 'open', 'IoT,', 'ERP,', 'Care', 'Managed', 'em', 'sustainable', 'Laufstilkontrolle,', 'Inflammatory', 'Administration', 'Inhaler', 'Savings', 'Audio/Video', 'Substance', 'maladies', 'Melanoma,', 'healthtest,', 'Need,', 'Comunicação', 'Système', 'développement', 'Biomarkers,', 'Infectious', 'Use', \"LTC's,\", 'asthme,', 'Wearables,', 'ingegneria,', 'kiné,', 'Hypnosis', 'management,', 'licensing,', 'inhaler,', 'ocular', 'Oncology,', 'Physiological', 'Wellness', 'innovation', 'pharmacien', 'epidemiologie,', 'Telemedicine,', 'Aging', 'large', 'Crowdfunding,', 'strategic', 'Telehealth', 'investor,', 'at', 'Start', 'aid,', 'prosthetics,', 'prevention,', 'consultancy,', 'microbusiness,', 'Connectivity,', 'omics,', 'therapy', 'prevención,', 'Virtual', 'podologue,', 'Care,', 'Integration', '(AI)', 'hypertension,', 'Benefits,', 'Careers', 'signals,', 'Sampling,', 'checker,', 'neurological', 'PCVRR', 'experience', 'inhaler', 'Digitales', 'della', '11,', 'Imaging,', 'Consumer', 'as', 'drug', 'Cardiac', 'Application,', 'Optimised', '(IoT)', 'livraison,', 'technologies,', 'Gesundheitswesen,', 'Predictive', 'alzheimer,', 'movement,', 'android,', 'managment', 'reality,', 'AI', 'Performance,', 'médicale,', 'insurance,', 'cote', 'medicine,', 'wellness,', 'Ambient', 'training', 'repair', 'GMP,', 'work,', 'markets,', 'software', 'Qualité,', 'Food', 'Intensivmedizin,', 'healthcheckup,', 'corporate', 'medical', 'Hosted', 'TECS,', 'Warden', 'news,', 'biopharmaceuticals', 'extracellular', 'HealthTech,', 'NHS,', 'nanoSMAR', 'Stratégie,', 'source,', 'Markttrends', 'OBGYN,', 'engineering', 'Diabetes', 'bodies,', 'Drug', 'telemedicina', 'Cliniques,', 'cybersecurity,', 'spectrometry', 'games,', 'Respiratory', 'mHealth,', 'video,', 'Contract', 'records,', 'Biomedical,', 'Administration,', 'médecine,', 'challenges', 'targeted', 'E-Medical', 'Pharmacy,', 'médicaments', 'tool,', 'Genetic', 'Door', 'MedTech', 'hometesting', 'Centric', 'Receptor', 'Health-tech,', 'Exercise,', 'data,', 'Genomics,', 'production,', 'of', 'Global', 'cabinet,', 'intelligence', 'Pharmaceutique,', 'Expérimentaux,', 'applications', 'capture,', 'Networks', 'santé,', 'Anxiety', 'remotehiring,', 'food', 'App,', 'benefit,', '/', 'engagement,', 'Freelancer,', 'EBR,', 'Asthma', 'Pflege,', 'Healthcare,', 'Metabolomics,', 'Software', 'Human', 'medicine', 'agendamédical,', 'Lewy', 'Biomarker', 'building,', 'devices,', 'Treatment', 'BPF,', 'design,', 'advisory', 'infrared', 'VC', 'Krankenpflege,', 'dementia,', 'neuroscience,', 'biometrics,', 'Optics,', 'coding,', 'Parkinsons,', 'due', 'tracking,', 'preclinical,', 'Proteomics,', 'virtual', 'preventive', 'Sciences,', 'breathing', 'Technology,', 'Vaccines,', 'Hemocompatibility,', 'Fundraising,', 'Clinical', 'Communication,', 'wellbeing', 'Services', 'Networks,', 'measurement', 'salute,', 'Communication', '3D,', 'Services,', 'ophtalmology', 'Tracking', 'Investments,', 'managment,', 'content,', 'Fertility,', 'valvulopathy,', 'production', 'Immunology,', 'Acute', 'home', 'Monitoring,', 'Altenpflege,', 'discovery,', 'powder', 'cannes,', 'solutions,', 'space,', '13485,', 'Intelligente', 'pulmonology,', 'Systems', 'Ergonomie', 'physical', 'immunotherapy,', 'instrumentation,', 'support,', 'Enabled', 'cardiology,', 'interventions,', 'Healthcare', 'Financial', 'Research', 'Offshore', 'intelligence,', 'Union,', 'Female', 'sur', 'testing,', 'Depression', 'Time', 'Real', 'thérapeutique,', 'Mass', 'cancer,', 'SMART', 'Analysis', 'care,', 'rendimiento,', 'Schlaganfallexperte', 'Sexual', 'Vocal', 'Specialised', 'progettazione,', 'Gene', 'primary', 'CCTV,', 'Molecular', 'Cooperative,', 'batch', 'healthtech', 'Software,', 'strain,', 'employee', 'Pharmacology,', 'Blender,', 'Preventative', 'adherence', 'Fitness', 'Bowel', 'Leukaemia,', 'Expert', 'up,', 'pricing', 'riabilitazione,', 'gamification,', 'film,', 'single', 'sportive,', 'Big', 'a', 'courier-support,', 'Hiring', 'DNApower,', 'Artificial', 'Digitale', 'Identification,', 'degeneration,', 'daycare,', 'freelancejobs,', 'Genome', 'Communities', 'tecnología,', 'Doctor', 'e-health,', 'patient', 'FISH,', 'Biomechanik,', 'sleep,', 'fully', 'hiring,', 'Electronics', 'Hiring,', 'pharma,', 'socialmedia,', 'pigmentosa,', 'aux', 'Assisted', 'Age-related', 'health', 'change,', 'Biomarker,', 'Diagnostik,', 'output,', 'mobile', 'digital', 'side,', 'esante,', 'services', 'population', 'Biotherapeutics', 'CFR', 'fitness,', 'Admin', 'centre', 'stratification,', 'screening', '3D', 'Dermatology,', 'Flow', 'childcare,', 'ECG', 'Behavioral', 'Leadership,', 'Prevention,', 'team', 'Privacy,', 'Mental', \"Parkinson's\", 'Toxicology,', 'entrenamiento,', 'vector', 'Banking,', 'in', 'humanitaire,', 'newborn', 'Compliance,', 'symptomcheck,', 'VR,', 'Laboratory', 'Essais', 'International', 'research', 'alpha-synuclein,', 'Biochemistry,', 'advertisement,']\n"
     ]
    }
   ],
   "source": [
    "!pip install sentence_transformers\n",
    "import pandas as pd\n",
    "\n",
    "\n",
    "def load_data():\n",
    "    path = \"C:/Users/emine/Documents/Ecole/A5/Webscraping & Data Processing/Project/data/Startup database.xlsx\"\n",
    "    return pd.read_excel(path)\n",
    "\n",
    "df = load_data()\n",
    "\n",
    "\n",
    "all_words = set()\n",
    "for specialization in df['specialisation'].dropna():\n",
    "    words = specialization.split()\n",
    "    all_words.update(words)\n",
    "\n",
    "\n",
    "unique_words = list(all_words)\n",
    "\n",
    "\n",
    "print(unique_words)"
   ]
  },
  {
   "cell_type": "code",
   "execution_count": 2,
   "id": "e00572c1",
   "metadata": {},
   "outputs": [
    {
     "name": "stdout",
     "output_type": "stream",
     "text": [
      "['Wellness,', 'wellbeing,', 'Health,', 'Well-being,', 'health,', 'Wellbeing,', 'Community', 'Medical', 'healthcare,', 'Communities,', 'wellness', 'Health', 'Environmental', 'sustainability,', 'Medicine', 'healthcare', 'sustainable', 'Wellness', 'wellness,', 'medical', 'Healthcare,', 'medicine', 'Fundraising,', 'wellbeing', 'Healthcare', 'Communities', 'health']\n"
     ]
    }
   ],
   "source": [
    "from transformers import AutoTokenizer, AutoModelForSequenceClassification\n",
    "from scipy.spatial.distance import cosine\n",
    "from sentence_transformers import SentenceTransformer\n",
    "import numpy as np\n",
    "\n",
    "\n",
    "model = SentenceTransformer('sentence-transformers/all-MiniLM-L6-v2')\n",
    "\n",
    "\n",
    "rse_keywords = [\"sustainability\", \"ethical\", \"social\", \"environment\", \"health\", \"well-being\", \"community\", \n",
    "                \"green\", \"renewable\", \"eco-friendly\", \"inclusive\", \"diversity\", \"equality\", \"charity\", \"volunteer\"]\n",
    "\n",
    "\n",
    "\n",
    "rse_embeddings = model.encode(rse_keywords)\n",
    "input_embeddings = model.encode(unique_words)\n",
    "\n",
    "\n",
    "threshold = 0.65\n",
    "rse_related_words = []\n",
    "\n",
    "for word, word_embedding in zip(unique_words, input_embeddings):\n",
    "    similarities = [1 - cosine(word_embedding, rse_embedding) for rse_embedding in rse_embeddings]\n",
    "    if max(similarities) > threshold:\n",
    "        rse_related_words.append(word)\n",
    "\n",
    "print(rse_related_words)"
   ]
  }
 ],
 "metadata": {
  "kernelspec": {
   "display_name": "Python 3 (ipykernel)",
   "language": "python",
   "name": "python3"
  },
  "language_info": {
   "codemirror_mode": {
    "name": "ipython",
    "version": 3
   },
   "file_extension": ".py",
   "mimetype": "text/x-python",
   "name": "python",
   "nbconvert_exporter": "python",
   "pygments_lexer": "ipython3",
   "version": "3.10.9"
  }
 },
 "nbformat": 4,
 "nbformat_minor": 5
}
