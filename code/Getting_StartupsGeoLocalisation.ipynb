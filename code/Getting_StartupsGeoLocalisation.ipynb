{
 "cells": [
  {
   "cell_type": "code",
   "execution_count": 2,
   "id": "17d1055e",
   "metadata": {},
   "outputs": [
    {
     "name": "stdout",
     "output_type": "stream",
     "text": [
      "Requirement already satisfied: folium in c:\\users\\emine\\anaconda3\\lib\\site-packages (0.15.1)\n",
      "Requirement already satisfied: requests in c:\\users\\emine\\anaconda3\\lib\\site-packages (from folium) (2.28.1)\n",
      "Requirement already satisfied: branca>=0.6.0 in c:\\users\\emine\\anaconda3\\lib\\site-packages (from folium) (0.7.0)\n",
      "Requirement already satisfied: jinja2>=2.9 in c:\\users\\emine\\anaconda3\\lib\\site-packages (from folium) (3.1.2)\n",
      "Requirement already satisfied: numpy in c:\\users\\emine\\anaconda3\\lib\\site-packages (from folium) (1.23.5)\n",
      "Requirement already satisfied: xyzservices in c:\\users\\emine\\anaconda3\\lib\\site-packages (from folium) (2023.10.1)\n",
      "Requirement already satisfied: MarkupSafe>=2.0 in c:\\users\\emine\\anaconda3\\lib\\site-packages (from jinja2>=2.9->folium) (2.1.1)\n",
      "Requirement already satisfied: certifi>=2017.4.17 in c:\\users\\emine\\anaconda3\\lib\\site-packages (from requests->folium) (2022.12.7)\n",
      "Requirement already satisfied: charset-normalizer<3,>=2 in c:\\users\\emine\\anaconda3\\lib\\site-packages (from requests->folium) (2.0.4)\n",
      "Requirement already satisfied: idna<4,>=2.5 in c:\\users\\emine\\anaconda3\\lib\\site-packages (from requests->folium) (3.4)\n",
      "Requirement already satisfied: urllib3<1.27,>=1.21.1 in c:\\users\\emine\\anaconda3\\lib\\site-packages (from requests->folium) (1.26.14)\n",
      "Requirement already satisfied: geopy in c:\\users\\emine\\anaconda3\\lib\\site-packages (2.4.1)\n",
      "Requirement already satisfied: geographiclib<3,>=1.52 in c:\\users\\emine\\anaconda3\\lib\\site-packages (from geopy) (2.0)\n"
     ]
    }
   ],
   "source": [
    "!pip install folium\n",
    "!pip install geopy"
   ]
  },
  {
   "cell_type": "code",
   "execution_count": 5,
   "id": "a59bd29e",
   "metadata": {},
   "outputs": [],
   "source": [
    "import pandas as pd\n",
    "import folium\n",
    "from geopy.geocoders import Nominatim\n",
    "from geopy.exc import GeocoderTimedOut, GeocoderQuotaExceeded\n",
    "import time\n",
    "\n",
    "def load_data():\n",
    "    path = \"C:/Users/emine/Documents/Ecole/A5/Webscraping & Data Processing/Project/data/Startup database test.xlsx\"\n",
    "    data = pd.read_excel(path)\n",
    "    return data\n",
    "\n",
    "def get_location(address):\n",
    "    geolocator = Nominatim(user_agent=\"geoapiforWebScraping\")\n",
    "    try:\n",
    "        location = geolocator.geocode(address)\n",
    "        if location:\n",
    "            return location.latitude, location.longitude\n",
    "    except (GeocoderTimedOut, GeocoderQuotaExceeded):\n",
    "        return None, None\n",
    "    return None, None\n",
    "\n",
    "df = load_data()\n",
    "\n",
    "map = folium.Map(location=[20, 0], zoom_start=2)\n",
    "\n",
    "for index, row in df.iterrows():\n",
    "    lat, lon = get_location(row['location'])\n",
    "    if lat and lon:\n",
    "        folium.Marker([lat, lon], popup=row['name']).add_to(map)\n",
    "        df.at[index, 'latitude'] = lat\n",
    "        df.at[index, 'longitude'] = lon\n",
    "    time.sleep(1)\n",
    "\n",
    "map\n",
    "\n",
    "output_path = 'C:/Users/emine/Documents/Ecole/A5/Webscraping & Data Processing/Project/data/Startup database.xlsx'\n",
    "df.to_excel(output_path, index=False)"
   ]
  }
 ],
 "metadata": {
  "kernelspec": {
   "display_name": "Python 3 (ipykernel)",
   "language": "python",
   "name": "python3"
  },
  "language_info": {
   "codemirror_mode": {
    "name": "ipython",
    "version": 3
   },
   "file_extension": ".py",
   "mimetype": "text/x-python",
   "name": "python",
   "nbconvert_exporter": "python",
   "pygments_lexer": "ipython3",
   "version": "3.10.9"
  }
 },
 "nbformat": 4,
 "nbformat_minor": 5
}
